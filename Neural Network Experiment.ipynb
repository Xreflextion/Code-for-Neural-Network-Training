{
 "cells": [
  {
   "cell_type": "code",
   "execution_count": 3,
   "metadata": {},
   "outputs": [],
   "source": [
    "import os\n",
    "import numpy as np\n",
    "from PIL import Image\n",
    "%matplotlib inline \n",
    "from matplotlib import pyplot as plt\n",
    "from tqdm import tqdm"
   ]
  },
  {
   "cell_type": "code",
   "execution_count": 4,
   "metadata": {},
   "outputs": [],
   "source": [
    "np.random.seed(0)\n",
    "np.set_printoptions(precision=6, suppress=True)"
   ]
  },
  {
   "cell_type": "code",
   "execution_count": 5,
   "metadata": {},
   "outputs": [],
   "source": [
    "num_class = 26 # number of output neurons\n",
    "image_size = 32\n",
    "input_dim = image_size * image_size # input dimension\n",
    "layer_count = 1\n",
    "learning_rate = 1e-2"
   ]
  },
  {
   "cell_type": "code",
   "execution_count": 6,
   "metadata": {},
   "outputs": [],
   "source": [
    "def open_image(path):\n",
    "    # open image and convert to grayscale\n",
    "    img = Image.open(path).convert(\"L\")\n",
    "    return img\n",
    "\n",
    "def compress_image(img, size=32):\n",
    "    # downsample image from 128x128 to 32x32\n",
    "    img = img.resize((size, size))\n",
    "    img_array = np.array(img)\n",
    "    # convert to 1D array and normalize pixel values to between 0 and 1\n",
    "    img_array = img_array.reshape(-1) / 255\n",
    "    return img_array"
   ]
  },
  {
   "cell_type": "code",
   "execution_count": 7,
   "metadata": {},
   "outputs": [],
   "source": [
    "def neuron_formula(x, weights, biases):\n",
    "    return np.dot(weights, x) + biases # z = w.x + b\n",
    "\n",
    "def softmax(z): \n",
    "    array = []\n",
    "    sum_exp_z = np.exp(z).sum(axis=0) # obtain the sum of the exponentials of all z values\n",
    "    for output in z:\n",
    "        array.append(np.exp(output)/sum_exp_z) # obtain the predicted probability of each class\n",
    "    return np.array(array)\n",
    "\n",
    "def deriv_loss_function_w(actual, experimental, batch_array):\n",
    "    return np.dot((experimental - actual), batch_array.T)\n",
    "\n",
    "def deriv_loss_function_b(actual, experimental):\n",
    "    return (experimental-actual)\n",
    "\n",
    "def use_gradient_descent(alpha, error_w, error_b, weights, biases):\n",
    "    new_weight = weights - alpha * error_w\n",
    "    new_bias = biases - alpha * error_b\n",
    "    return new_weight, new_bias"
   ]
  },
  {
   "cell_type": "code",
   "execution_count": 8,
   "metadata": {},
   "outputs": [],
   "source": [
    "def predict(img, weights, biases):\n",
    "    z = neuron_formula(img,  weights, biases) # (26, 32)\n",
    "    prediction = softmax(z)\n",
    "    return prediction\n",
    "\n",
    "def get_loss(actual, experimental):\n",
    "    return -np.sum(actual * np.log(experimental))"
   ]
  },
  {
   "cell_type": "code",
   "execution_count": 9,
   "metadata": {},
   "outputs": [],
   "source": [
    "# get all folders with letters a-z\n",
    "folders = [name for name in os.listdir(\".\") if os.path.isdir(name) and (name.startswith('6') or name.startswith('7'))]\n",
    "folders.sort()\n",
    "\n",
    "# load all images and create class labels\n",
    "images = []\n",
    "labels = []\n",
    "for i in range(len(folders)):\n",
    "    folder = folders[i]\n",
    "    for file in os.listdir(f'./{folder}/hsf_4'):\n",
    "        img = open_image(f'./{folder}/hsf_4/{file}')\n",
    "        images.append(compress_image(img, image_size))\n",
    "        labels.append([0 for _ in range(len(folders))])\n",
    "        labels[-1][i] = 1"
   ]
  },
  {
   "cell_type": "code",
   "execution_count": 10,
   "metadata": {},
   "outputs": [],
   "source": [
    "labels_array = np.array(labels).T # dimensions: (26, 12000)\n",
    "image_array = np.array(images).T # dimensions: (1024, 12000)"
   ]
  },
  {
   "cell_type": "code",
   "execution_count": 11,
   "metadata": {},
   "outputs": [
    {
     "name": "stdout",
     "output_type": "stream",
     "text": [
      "[[ 0.000176  0.00004   0.000098 ...  0.00007  -0.000042 -0.00011 ]\n",
      " [ 0.000171 -0.000079 -0.000105 ...  0.00001  -0.000048  0.000127]\n",
      " [-0.00017   0.000073 -0.000186 ... -0.000122 -0.000094  0.000025]\n",
      " ...\n",
      " [ 0.000057 -0.000148 -0.000077 ...  0.00001  -0.000037 -0.000106]\n",
      " [-0.00003   0.000081  0.000086 ... -0.000054  0.000085  0.000003]\n",
      " [ 0.00021  -0.000143  0.000082 ...  0.00004  -0.000005  0.000112]]\n",
      "[[-0.000065]\n",
      " [ 0.000101]\n",
      " [-0.000025]\n",
      " [-0.000053]\n",
      " [-0.000024]\n",
      " [-0.000011]\n",
      " [ 0.000113]\n",
      " [-0.000072]\n",
      " [ 0.000055]\n",
      " [-0.000097]\n",
      " [-0.000088]\n",
      " [-0.000182]\n",
      " [-0.000068]\n",
      " [ 0.00001 ]\n",
      " [ 0.000053]\n",
      " [ 0.000106]\n",
      " [ 0.000001]\n",
      " [ 0.000146]\n",
      " [-0.00013 ]\n",
      " [ 0.00019 ]\n",
      " [-0.000077]\n",
      " [-0.000001]\n",
      " [ 0.000084]\n",
      " [-0.000067]\n",
      " [ 0.000093]\n",
      " [ 0.000097]]\n"
     ]
    }
   ],
   "source": [
    "# initialize random weights and biases\n",
    "np.random.seed(0)\n",
    "old_weights = np.random.randn(num_class, input_dim) / 10000 # dimensions: (26, 1024)\n",
    "old_biases = np.random.randn(num_class, 1) / 10000 # dimensions: (26, 1)\n",
    "\n",
    "# original weights and biases\n",
    "print(old_weights)\n",
    "print(old_biases)"
   ]
  },
  {
   "cell_type": "code",
   "execution_count": 12,
   "metadata": {},
   "outputs": [
    {
     "data": {
      "image/png": "[encoded data removed]",
      "text/plain": [
       "<Figure size 100x100 with 2 Axes>"
      ]
     },
     "metadata": {},
     "output_type": "display_data"
    }
   ],
   "source": [
    "# show the weight visualization for the first weight (corresponding to the letter 'x')\n",
    "\n",
    "w = old_weights.reshape(num_class, image_size, image_size)\n",
    "\n",
    "plt.figure(figsize = (1,1))\n",
    "plt.imshow(w[23])\n",
    "plt.colorbar()\n",
    "plt.show() "
   ]
  },
  {
   "cell_type": "code",
   "execution_count": 13,
   "metadata": {},
   "outputs": [
    {
     "data": {
      "image/png": "[encoded data removed]",
      "text/plain": [
       "<Figure size 100x100 with 2 Axes>"
      ]
     },
     "metadata": {},
     "output_type": "display_data"
    },
    {
     "name": "stdout",
     "output_type": "stream",
     "text": [
      "[[0.038307]\n",
      " [0.038512]\n",
      " [0.038242]\n",
      " [0.038427]\n",
      " [0.038541]\n",
      " [0.038442]\n",
      " [0.038447]\n",
      " [0.038353]\n",
      " [0.038264]\n",
      " [0.038521]\n",
      " [0.038564]\n",
      " [0.03828 ]\n",
      " [0.038405]\n",
      " [0.038677]\n",
      " [0.038513]\n",
      " [0.038695]\n",
      " [0.038444]\n",
      " [0.038456]\n",
      " [0.038525]\n",
      " [0.038566]\n",
      " [0.038545]\n",
      " [0.038526]\n",
      " [0.038611]\n",
      " [0.038363]\n",
      " [0.038379]\n",
      " [0.038395]]\n",
      "3.260673491790949\n"
     ]
    }
   ],
   "source": [
    "# first prediction\n",
    "test_image = compress_image(open_image('./78/hsf_4/hsf_4_00062.png'), image_size)\n",
    "\n",
    "test_image = test_image.reshape(image_size * image_size, 1)\n",
    "test_image = np.array(test_image)\n",
    "\n",
    "test_label_array = [0 for _ in range(len(folders))]\n",
    "test_label_array[23] = 1\n",
    "test_label_array = np.array(test_label_array).reshape(num_class, 1)\n",
    "\n",
    "reshaped = test_image.reshape(image_size, image_size)\n",
    "\n",
    "plt.figure(figsize = (1,1))\n",
    "plt.imshow(reshaped)\n",
    "plt.colorbar()\n",
    "plt.show()\n",
    "\n",
    "prediction = predict(test_image, old_weights, old_biases)\n",
    "print(prediction)\n",
    "print(get_loss(test_label_array, prediction))"
   ]
  },
  {
   "cell_type": "code",
   "execution_count": 14,
   "metadata": {},
   "outputs": [
    {
     "name": "stdout",
     "output_type": "stream",
     "text": [
      "[[-0.004382]\n",
      " [ 0.000955]\n",
      " [-0.006087]\n",
      " [-0.001267]\n",
      " [ 0.001711]\n",
      " [-0.000881]\n",
      " [-0.00075 ]\n",
      " [-0.00318 ]\n",
      " [-0.005497]\n",
      " [ 0.001197]\n",
      " [ 0.002298]\n",
      " [-0.005099]\n",
      " [-0.001843]\n",
      " [ 0.005223]\n",
      " [ 0.000981]\n",
      " [ 0.005698]\n",
      " [-0.000812]\n",
      " [-0.000495]\n",
      " [ 0.001293]\n",
      " [ 0.00236 ]\n",
      " [ 0.001817]\n",
      " [ 0.001313]\n",
      " [ 0.003507]\n",
      " [-0.002937]\n",
      " [-0.002507]\n",
      " [-0.002104]]\n",
      "[[0.038307]\n",
      " [0.038512]\n",
      " [0.038242]\n",
      " [0.038427]\n",
      " [0.038541]\n",
      " [0.038442]\n",
      " [0.038447]\n",
      " [0.038353]\n",
      " [0.038264]\n",
      " [0.038521]\n",
      " [0.038564]\n",
      " [0.03828 ]\n",
      " [0.038405]\n",
      " [0.038677]\n",
      " [0.038513]\n",
      " [0.038695]\n",
      " [0.038444]\n",
      " [0.038456]\n",
      " [0.038525]\n",
      " [0.038566]\n",
      " [0.038545]\n",
      " [0.038526]\n",
      " [0.038611]\n",
      " [0.038363]\n",
      " [0.038379]\n",
      " [0.038395]]\n",
      "[[-0.000207 -0.000343 -0.000285 ... -0.000313 -0.000425 -0.000493]\n",
      " [-0.000214 -0.000464 -0.00049  ... -0.000375 -0.000433 -0.000258]\n",
      " [-0.000552 -0.000309 -0.000568 ... -0.000504 -0.000477 -0.000357]\n",
      " ...\n",
      " [ 0.009673  0.009468  0.009539 ...  0.009626  0.009579  0.00951 ]\n",
      " [-0.000413 -0.000303 -0.000297 ... -0.000438 -0.000299 -0.000381]\n",
      " [-0.000174 -0.000527 -0.000302 ... -0.000344 -0.000389 -0.000272]]\n",
      "[[-0.000448]\n",
      " [-0.000284]\n",
      " [-0.000408]\n",
      " [-0.000437]\n",
      " [-0.000409]\n",
      " [-0.000396]\n",
      " [-0.000271]\n",
      " [-0.000456]\n",
      " [-0.000328]\n",
      " [-0.000483]\n",
      " [-0.000473]\n",
      " [-0.000564]\n",
      " [-0.000452]\n",
      " [-0.000377]\n",
      " [-0.000333]\n",
      " [-0.000281]\n",
      " [-0.000384]\n",
      " [-0.000239]\n",
      " [-0.000515]\n",
      " [-0.000196]\n",
      " [-0.000462]\n",
      " [-0.000386]\n",
      " [-0.000302]\n",
      " [ 0.00955 ]\n",
      " [-0.000291]\n",
      " [-0.000287]]\n"
     ]
    }
   ],
   "source": [
    "# first calculations for first image\n",
    "w_dummy = np.array(old_weights)\n",
    "b_dummy = np.array(old_biases)\n",
    "img_dummy = test_image\n",
    "\n",
    "z_dummy = neuron_formula(img_dummy, w_dummy, b_dummy)\n",
    "p_dummy = softmax(z_dummy)\n",
    "\n",
    "print(z_dummy) # z\n",
    "print(p_dummy) # predictions\n",
    "\n",
    "loss = get_loss(test_label_array, p_dummy) # loss\n",
    "\n",
    "loss_function_b_dummy =  p_dummy - test_label_array \n",
    "loss_function_w_dummy = np.dot(loss_function_b_dummy, test_image.T) \n",
    "\n",
    "w_dummy, b_dummy = use_gradient_descent(learning_rate, loss_function_w_dummy, loss_function_b_dummy, old_weights, old_biases)\n",
    "\n",
    "# new weights and biases\n",
    "print(w_dummy)\n",
    "print(b_dummy)\n"
   ]
  },
  {
   "cell_type": "code",
   "execution_count": 15,
   "metadata": {},
   "outputs": [
    {
     "name": "stderr",
     "output_type": "stream",
     "text": [
      " 60%|██████    | 7231/12000 [02:56<01:56, 40.87it/s]\n"
     ]
    },
    {
     "ename": "KeyboardInterrupt",
     "evalue": "",
     "output_type": "error",
     "traceback": [
      "\u001b[0;31m---------------------------------------------------------------------------\u001b[0m",
      "\u001b[0;31mKeyboardInterrupt\u001b[0m                         Traceback (most recent call last)",
      "Cell \u001b[0;32mIn[15], line 38\u001b[0m\n\u001b[1;32m     36\u001b[0m     deriv_loss_bias \u001b[38;5;241m=\u001b[39m predictions[i] \u001b[38;5;241m-\u001b[39m used_label_array[i]\n\u001b[1;32m     37\u001b[0m     \u001b[38;5;28;01mfor\u001b[39;00m j \u001b[38;5;129;01min\u001b[39;00m \u001b[38;5;28mrange\u001b[39m(input_dim):\n\u001b[0;32m---> 38\u001b[0m         new_weights[i][j] \u001b[38;5;241m=\u001b[39m weights[i][j] \u001b[38;5;241m-\u001b[39m learning_rate \u001b[38;5;241m*\u001b[39m deriv_loss_bias[\u001b[38;5;241m0\u001b[39m] \u001b[38;5;241m*\u001b[39m used_image_array\u001b[38;5;241m.\u001b[39mreshape(\u001b[38;5;241m-\u001b[39m\u001b[38;5;241m1\u001b[39m)[j]\n\u001b[1;32m     39\u001b[0m     new_biases[i] \u001b[38;5;241m=\u001b[39m biases[i] \u001b[38;5;241m-\u001b[39m learning_rate \u001b[38;5;241m*\u001b[39m deriv_loss_bias[\u001b[38;5;241m0\u001b[39m]\n\u001b[1;32m     41\u001b[0m prediction_array \u001b[38;5;241m=\u001b[39m np\u001b[38;5;241m.\u001b[39marray(predictions) \u001b[38;5;66;03m# (1, 26)\u001b[39;00m\n",
      "\u001b[0;31mKeyboardInterrupt\u001b[0m: "
     ]
    }
   ],
   "source": [
    "# # calculations with one weight at a time\n",
    "# np.random.seed(0)\n",
    "# weights = np.random.randn(num_class, input_dim)/10000\n",
    "# biases = np.random.randn(num_class, 1)/10000\n",
    "\n",
    "# epochs = 100\n",
    "# total = 12000\n",
    "\n",
    "# for e in range(epochs): # how many times to get batch \n",
    "#     correct = 0\n",
    "#     losses = []\n",
    "#     indices = np.arange(image_array.shape[1])\n",
    "#     np.random.shuffle(indices)\n",
    "#     for f in tqdm(range(total)):\n",
    "#         new_weights = np.array(weights)\n",
    "#         new_biases = np.array(biases)\n",
    "#         idx = indices[f:f+1] # NOTE batch_indices have to be in range of the row\n",
    "#         used_image_array = image_array[:, idx] # (1024, 1)\n",
    "#         used_label_array = labels_array[:, idx] # (26, 1)\n",
    "        \n",
    "#         exp = []\n",
    "#         for i in range(num_class):\n",
    "#             dot_product = np.dot(weights[i], used_image_array)\n",
    "#             z = dot_product + biases[i]\n",
    "#             exp_z = np.exp(z)\n",
    "#             exp.append(exp_z)\n",
    "                \n",
    "#         predictions = []\n",
    "#         exponent_array = np.array(exp)\n",
    "#         exponent_sum = exponent_array.sum()\n",
    "#         for i in range(num_class):\n",
    "#             prediction = exponent_array[i] / exponent_sum\n",
    "#             predictions.append(prediction)\n",
    "    \n",
    "#         for i in range(len(predictions)):\n",
    "#             deriv_loss_bias = predictions[i] - used_label_array[i]\n",
    "#             for j in range(input_dim):\n",
    "#                 new_weights[i][j] = weights[i][j] - learning_rate * deriv_loss_bias[0] * used_image_array.reshape(-1)[j]\n",
    "#             new_biases[i] = biases[i] - learning_rate * deriv_loss_bias[0]\n",
    "       \n",
    "#         prediction_array = np.array(predictions) # (1, 26)\n",
    "#         likely = prediction_array.argmax() # get maximum value in the array\n",
    "#         if used_label_array[likely][0] == 1:\n",
    "#             correct += 1\n",
    "#         weights = new_weights\n",
    "#         biases = new_biases\n",
    "        \n",
    "        \n",
    "#     print(f'Epoch {e}: {correct}/{total}', correct/total*100)\n",
    "        \n"
   ]
  },
  {
   "cell_type": "code",
   "execution_count": 16,
   "metadata": {},
   "outputs": [
    {
     "name": "stderr",
     "output_type": "stream",
     "text": [
      "100%|██████████| 12000/12000 [00:04<00:00, 2489.85it/s]\n"
     ]
    },
    {
     "name": "stdout",
     "output_type": "stream",
     "text": [
      "Epoch 0: 2053/12000 17.108333333333334\n"
     ]
    },
    {
     "name": "stderr",
     "output_type": "stream",
     "text": [
      "100%|██████████| 12000/12000 [00:04<00:00, 2578.21it/s]\n"
     ]
    },
    {
     "name": "stdout",
     "output_type": "stream",
     "text": [
      "Epoch 1: 4212/12000 35.099999999999994\n"
     ]
    },
    {
     "name": "stderr",
     "output_type": "stream",
     "text": [
      "100%|██████████| 12000/12000 [00:04<00:00, 2638.09it/s]\n"
     ]
    },
    {
     "name": "stdout",
     "output_type": "stream",
     "text": [
      "Epoch 2: 4916/12000 40.96666666666667\n"
     ]
    },
    {
     "name": "stderr",
     "output_type": "stream",
     "text": [
      "100%|██████████| 12000/12000 [00:04<00:00, 2575.23it/s]\n"
     ]
    },
    {
     "name": "stdout",
     "output_type": "stream",
     "text": [
      "Epoch 3: 5356/12000 44.63333333333333\n"
     ]
    },
    {
     "name": "stderr",
     "output_type": "stream",
     "text": [
      "100%|██████████| 12000/12000 [00:04<00:00, 2575.55it/s]\n"
     ]
    },
    {
     "name": "stdout",
     "output_type": "stream",
     "text": [
      "Epoch 4: 5603/12000 46.69166666666666\n"
     ]
    },
    {
     "name": "stderr",
     "output_type": "stream",
     "text": [
      "100%|██████████| 12000/12000 [00:04<00:00, 2591.22it/s]\n"
     ]
    },
    {
     "name": "stdout",
     "output_type": "stream",
     "text": [
      "Epoch 5: 5754/12000 47.949999999999996\n"
     ]
    },
    {
     "name": "stderr",
     "output_type": "stream",
     "text": [
      "100%|██████████| 12000/12000 [00:04<00:00, 2570.86it/s]\n"
     ]
    },
    {
     "name": "stdout",
     "output_type": "stream",
     "text": [
      "Epoch 6: 5953/12000 49.608333333333334\n"
     ]
    },
    {
     "name": "stderr",
     "output_type": "stream",
     "text": [
      "100%|██████████| 12000/12000 [00:04<00:00, 2562.56it/s]\n"
     ]
    },
    {
     "name": "stdout",
     "output_type": "stream",
     "text": [
      "Epoch 7: 5997/12000 49.975\n"
     ]
    },
    {
     "name": "stderr",
     "output_type": "stream",
     "text": [
      "100%|██████████| 12000/12000 [00:04<00:00, 2558.39it/s]\n"
     ]
    },
    {
     "name": "stdout",
     "output_type": "stream",
     "text": [
      "Epoch 8: 6095/12000 50.79166666666667\n"
     ]
    },
    {
     "name": "stderr",
     "output_type": "stream",
     "text": [
      "100%|██████████| 12000/12000 [00:04<00:00, 2501.61it/s]\n"
     ]
    },
    {
     "name": "stdout",
     "output_type": "stream",
     "text": [
      "Epoch 9: 6270/12000 52.25\n"
     ]
    },
    {
     "name": "stderr",
     "output_type": "stream",
     "text": [
      "100%|██████████| 12000/12000 [00:04<00:00, 2584.92it/s]\n"
     ]
    },
    {
     "name": "stdout",
     "output_type": "stream",
     "text": [
      "Epoch 10: 6274/12000 52.28333333333334\n"
     ]
    },
    {
     "name": "stderr",
     "output_type": "stream",
     "text": [
      "100%|██████████| 12000/12000 [00:04<00:00, 2562.11it/s]\n"
     ]
    },
    {
     "name": "stdout",
     "output_type": "stream",
     "text": [
      "Epoch 11: 6348/12000 52.900000000000006\n"
     ]
    },
    {
     "name": "stderr",
     "output_type": "stream",
     "text": [
      "100%|██████████| 12000/12000 [00:04<00:00, 2511.68it/s]\n"
     ]
    },
    {
     "name": "stdout",
     "output_type": "stream",
     "text": [
      "Epoch 12: 6396/12000 53.300000000000004\n"
     ]
    },
    {
     "name": "stderr",
     "output_type": "stream",
     "text": [
      "100%|██████████| 12000/12000 [00:04<00:00, 2594.02it/s]\n"
     ]
    },
    {
     "name": "stdout",
     "output_type": "stream",
     "text": [
      "Epoch 13: 6568/12000 54.733333333333334\n"
     ]
    },
    {
     "name": "stderr",
     "output_type": "stream",
     "text": [
      "100%|██████████| 12000/12000 [00:04<00:00, 2592.95it/s]\n"
     ]
    },
    {
     "name": "stdout",
     "output_type": "stream",
     "text": [
      "Epoch 14: 6517/12000 54.30833333333334\n"
     ]
    },
    {
     "name": "stderr",
     "output_type": "stream",
     "text": [
      "100%|██████████| 12000/12000 [00:04<00:00, 2615.77it/s]\n"
     ]
    },
    {
     "name": "stdout",
     "output_type": "stream",
     "text": [
      "Epoch 15: 6662/12000 55.51666666666667\n"
     ]
    },
    {
     "name": "stderr",
     "output_type": "stream",
     "text": [
      "100%|██████████| 12000/12000 [00:04<00:00, 2560.23it/s]\n"
     ]
    },
    {
     "name": "stdout",
     "output_type": "stream",
     "text": [
      "Epoch 16: 6597/12000 54.974999999999994\n"
     ]
    },
    {
     "name": "stderr",
     "output_type": "stream",
     "text": [
      "100%|██████████| 12000/12000 [00:04<00:00, 2536.54it/s]\n"
     ]
    },
    {
     "name": "stdout",
     "output_type": "stream",
     "text": [
      "Epoch 17: 6692/12000 55.766666666666666\n"
     ]
    },
    {
     "name": "stderr",
     "output_type": "stream",
     "text": [
      "100%|██████████| 12000/12000 [00:04<00:00, 2560.16it/s]\n"
     ]
    },
    {
     "name": "stdout",
     "output_type": "stream",
     "text": [
      "Epoch 18: 6683/12000 55.69166666666666\n"
     ]
    },
    {
     "name": "stderr",
     "output_type": "stream",
     "text": [
      "100%|██████████| 12000/12000 [00:04<00:00, 2582.61it/s]\n"
     ]
    },
    {
     "name": "stdout",
     "output_type": "stream",
     "text": [
      "Epoch 19: 6755/12000 56.291666666666664\n"
     ]
    },
    {
     "name": "stderr",
     "output_type": "stream",
     "text": [
      "100%|██████████| 12000/12000 [00:04<00:00, 2581.92it/s]\n"
     ]
    },
    {
     "name": "stdout",
     "output_type": "stream",
     "text": [
      "Epoch 20: 6801/12000 56.675\n"
     ]
    },
    {
     "name": "stderr",
     "output_type": "stream",
     "text": [
      "100%|██████████| 12000/12000 [00:04<00:00, 2537.14it/s]\n"
     ]
    },
    {
     "name": "stdout",
     "output_type": "stream",
     "text": [
      "Epoch 21: 6776/12000 56.46666666666667\n"
     ]
    },
    {
     "name": "stderr",
     "output_type": "stream",
     "text": [
      "100%|██████████| 12000/12000 [00:04<00:00, 2526.48it/s]\n"
     ]
    },
    {
     "name": "stdout",
     "output_type": "stream",
     "text": [
      "Epoch 22: 6848/12000 57.06666666666666\n"
     ]
    },
    {
     "name": "stderr",
     "output_type": "stream",
     "text": [
      "100%|██████████| 12000/12000 [00:04<00:00, 2597.12it/s]\n"
     ]
    },
    {
     "name": "stdout",
     "output_type": "stream",
     "text": [
      "Epoch 23: 6861/12000 57.175\n"
     ]
    },
    {
     "name": "stderr",
     "output_type": "stream",
     "text": [
      "100%|██████████| 12000/12000 [00:04<00:00, 2592.71it/s]\n"
     ]
    },
    {
     "name": "stdout",
     "output_type": "stream",
     "text": [
      "Epoch 24: 6860/12000 57.166666666666664\n"
     ]
    },
    {
     "name": "stderr",
     "output_type": "stream",
     "text": [
      "100%|██████████| 12000/12000 [00:04<00:00, 2582.27it/s]\n"
     ]
    },
    {
     "name": "stdout",
     "output_type": "stream",
     "text": [
      "Epoch 25: 6854/12000 57.116666666666674\n"
     ]
    },
    {
     "name": "stderr",
     "output_type": "stream",
     "text": [
      "100%|██████████| 12000/12000 [00:04<00:00, 2535.40it/s]\n"
     ]
    },
    {
     "name": "stdout",
     "output_type": "stream",
     "text": [
      "Epoch 26: 6952/12000 57.93333333333334\n"
     ]
    },
    {
     "name": "stderr",
     "output_type": "stream",
     "text": [
      "100%|██████████| 12000/12000 [00:04<00:00, 2574.40it/s]\n"
     ]
    },
    {
     "name": "stdout",
     "output_type": "stream",
     "text": [
      "Epoch 27: 6954/12000 57.95\n"
     ]
    },
    {
     "name": "stderr",
     "output_type": "stream",
     "text": [
      "100%|██████████| 12000/12000 [00:04<00:00, 2574.61it/s]\n"
     ]
    },
    {
     "name": "stdout",
     "output_type": "stream",
     "text": [
      "Epoch 28: 6975/12000 58.12500000000001\n"
     ]
    },
    {
     "name": "stderr",
     "output_type": "stream",
     "text": [
      "100%|██████████| 12000/12000 [00:04<00:00, 2529.43it/s]\n"
     ]
    },
    {
     "name": "stdout",
     "output_type": "stream",
     "text": [
      "Epoch 29: 6898/12000 57.483333333333334\n"
     ]
    },
    {
     "name": "stderr",
     "output_type": "stream",
     "text": [
      "100%|██████████| 12000/12000 [00:04<00:00, 2560.15it/s]\n"
     ]
    },
    {
     "name": "stdout",
     "output_type": "stream",
     "text": [
      "Epoch 30: 7063/12000 58.858333333333334\n"
     ]
    },
    {
     "name": "stderr",
     "output_type": "stream",
     "text": [
      "100%|██████████| 12000/12000 [00:04<00:00, 2442.67it/s]\n"
     ]
    },
    {
     "name": "stdout",
     "output_type": "stream",
     "text": [
      "Epoch 31: 7072/12000 58.93333333333334\n"
     ]
    },
    {
     "name": "stderr",
     "output_type": "stream",
     "text": [
      "100%|██████████| 12000/12000 [00:05<00:00, 2328.51it/s]\n"
     ]
    },
    {
     "name": "stdout",
     "output_type": "stream",
     "text": [
      "Epoch 32: 7014/12000 58.45\n"
     ]
    },
    {
     "name": "stderr",
     "output_type": "stream",
     "text": [
      "100%|██████████| 12000/12000 [00:04<00:00, 2508.30it/s]\n"
     ]
    },
    {
     "name": "stdout",
     "output_type": "stream",
     "text": [
      "Epoch 33: 7091/12000 59.09166666666666\n"
     ]
    },
    {
     "name": "stderr",
     "output_type": "stream",
     "text": [
      "100%|██████████| 12000/12000 [00:05<00:00, 2251.70it/s]\n"
     ]
    },
    {
     "name": "stdout",
     "output_type": "stream",
     "text": [
      "Epoch 34: 7133/12000 59.44166666666667\n"
     ]
    },
    {
     "name": "stderr",
     "output_type": "stream",
     "text": [
      "100%|██████████| 12000/12000 [00:04<00:00, 2526.70it/s]\n"
     ]
    },
    {
     "name": "stdout",
     "output_type": "stream",
     "text": [
      "Epoch 35: 7087/12000 59.05833333333334\n"
     ]
    },
    {
     "name": "stderr",
     "output_type": "stream",
     "text": [
      "100%|██████████| 12000/12000 [00:04<00:00, 2532.27it/s]\n"
     ]
    },
    {
     "name": "stdout",
     "output_type": "stream",
     "text": [
      "Epoch 36: 7129/12000 59.40833333333333\n"
     ]
    },
    {
     "name": "stderr",
     "output_type": "stream",
     "text": [
      "100%|██████████| 12000/12000 [00:04<00:00, 2470.71it/s]\n"
     ]
    },
    {
     "name": "stdout",
     "output_type": "stream",
     "text": [
      "Epoch 37: 7100/12000 59.166666666666664\n"
     ]
    },
    {
     "name": "stderr",
     "output_type": "stream",
     "text": [
      "100%|██████████| 12000/12000 [00:04<00:00, 2430.83it/s]\n"
     ]
    },
    {
     "name": "stdout",
     "output_type": "stream",
     "text": [
      "Epoch 38: 7158/12000 59.650000000000006\n"
     ]
    },
    {
     "name": "stderr",
     "output_type": "stream",
     "text": [
      "100%|██████████| 12000/12000 [00:04<00:00, 2618.04it/s]\n"
     ]
    },
    {
     "name": "stdout",
     "output_type": "stream",
     "text": [
      "Epoch 39: 7125/12000 59.375\n"
     ]
    },
    {
     "name": "stderr",
     "output_type": "stream",
     "text": [
      "100%|██████████| 12000/12000 [00:04<00:00, 2543.06it/s]\n"
     ]
    },
    {
     "name": "stdout",
     "output_type": "stream",
     "text": [
      "Epoch 40: 7186/12000 59.88333333333333\n"
     ]
    },
    {
     "name": "stderr",
     "output_type": "stream",
     "text": [
      "100%|██████████| 12000/12000 [00:05<00:00, 2318.25it/s]\n"
     ]
    },
    {
     "name": "stdout",
     "output_type": "stream",
     "text": [
      "Epoch 41: 7136/12000 59.46666666666667\n"
     ]
    },
    {
     "name": "stderr",
     "output_type": "stream",
     "text": [
      "100%|██████████| 12000/12000 [00:04<00:00, 2475.22it/s]\n"
     ]
    },
    {
     "name": "stdout",
     "output_type": "stream",
     "text": [
      "Epoch 42: 7178/12000 59.81666666666666\n"
     ]
    },
    {
     "name": "stderr",
     "output_type": "stream",
     "text": [
      "100%|██████████| 12000/12000 [00:04<00:00, 2544.15it/s]\n"
     ]
    },
    {
     "name": "stdout",
     "output_type": "stream",
     "text": [
      "Epoch 43: 7212/12000 60.099999999999994\n"
     ]
    },
    {
     "name": "stderr",
     "output_type": "stream",
     "text": [
      "100%|██████████| 12000/12000 [00:04<00:00, 2598.85it/s]\n"
     ]
    },
    {
     "name": "stdout",
     "output_type": "stream",
     "text": [
      "Epoch 44: 7167/12000 59.724999999999994\n"
     ]
    },
    {
     "name": "stderr",
     "output_type": "stream",
     "text": [
      "100%|██████████| 12000/12000 [00:04<00:00, 2487.26it/s]\n"
     ]
    },
    {
     "name": "stdout",
     "output_type": "stream",
     "text": [
      "Epoch 45: 7211/12000 60.09166666666667\n"
     ]
    },
    {
     "name": "stderr",
     "output_type": "stream",
     "text": [
      "100%|██████████| 12000/12000 [00:04<00:00, 2562.67it/s]\n"
     ]
    },
    {
     "name": "stdout",
     "output_type": "stream",
     "text": [
      "Epoch 46: 7226/12000 60.21666666666666\n"
     ]
    },
    {
     "name": "stderr",
     "output_type": "stream",
     "text": [
      "100%|██████████| 12000/12000 [00:04<00:00, 2604.20it/s]\n"
     ]
    },
    {
     "name": "stdout",
     "output_type": "stream",
     "text": [
      "Epoch 47: 7206/12000 60.050000000000004\n"
     ]
    },
    {
     "name": "stderr",
     "output_type": "stream",
     "text": [
      "100%|██████████| 12000/12000 [00:04<00:00, 2612.41it/s]\n"
     ]
    },
    {
     "name": "stdout",
     "output_type": "stream",
     "text": [
      "Epoch 48: 7184/12000 59.86666666666667\n"
     ]
    },
    {
     "name": "stderr",
     "output_type": "stream",
     "text": [
      "100%|██████████| 12000/12000 [00:04<00:00, 2626.30it/s]\n"
     ]
    },
    {
     "name": "stdout",
     "output_type": "stream",
     "text": [
      "Epoch 49: 7284/12000 60.699999999999996\n"
     ]
    },
    {
     "name": "stderr",
     "output_type": "stream",
     "text": [
      "100%|██████████| 12000/12000 [00:04<00:00, 2616.74it/s]\n"
     ]
    },
    {
     "name": "stdout",
     "output_type": "stream",
     "text": [
      "Epoch 50: 7226/12000 60.21666666666666\n"
     ]
    },
    {
     "name": "stderr",
     "output_type": "stream",
     "text": [
      "100%|██████████| 12000/12000 [00:04<00:00, 2621.17it/s]\n"
     ]
    },
    {
     "name": "stdout",
     "output_type": "stream",
     "text": [
      "Epoch 51: 7212/12000 60.099999999999994\n"
     ]
    },
    {
     "name": "stderr",
     "output_type": "stream",
     "text": [
      "100%|██████████| 12000/12000 [00:04<00:00, 2620.40it/s]\n"
     ]
    },
    {
     "name": "stdout",
     "output_type": "stream",
     "text": [
      "Epoch 52: 7323/12000 61.025\n"
     ]
    },
    {
     "name": "stderr",
     "output_type": "stream",
     "text": [
      "100%|██████████| 12000/12000 [00:04<00:00, 2625.78it/s]\n"
     ]
    },
    {
     "name": "stdout",
     "output_type": "stream",
     "text": [
      "Epoch 53: 7252/12000 60.43333333333333\n"
     ]
    },
    {
     "name": "stderr",
     "output_type": "stream",
     "text": [
      "100%|██████████| 12000/12000 [00:04<00:00, 2515.54it/s]\n"
     ]
    },
    {
     "name": "stdout",
     "output_type": "stream",
     "text": [
      "Epoch 54: 7252/12000 60.43333333333333\n"
     ]
    },
    {
     "name": "stderr",
     "output_type": "stream",
     "text": [
      "100%|██████████| 12000/12000 [00:04<00:00, 2624.72it/s]\n"
     ]
    },
    {
     "name": "stdout",
     "output_type": "stream",
     "text": [
      "Epoch 55: 7296/12000 60.8\n"
     ]
    },
    {
     "name": "stderr",
     "output_type": "stream",
     "text": [
      "100%|██████████| 12000/12000 [00:04<00:00, 2619.99it/s]\n"
     ]
    },
    {
     "name": "stdout",
     "output_type": "stream",
     "text": [
      "Epoch 56: 7310/12000 60.916666666666664\n"
     ]
    },
    {
     "name": "stderr",
     "output_type": "stream",
     "text": [
      "100%|██████████| 12000/12000 [00:04<00:00, 2624.81it/s]\n"
     ]
    },
    {
     "name": "stdout",
     "output_type": "stream",
     "text": [
      "Epoch 57: 7281/12000 60.675000000000004\n"
     ]
    },
    {
     "name": "stderr",
     "output_type": "stream",
     "text": [
      "100%|██████████| 12000/12000 [00:04<00:00, 2455.26it/s]\n"
     ]
    },
    {
     "name": "stdout",
     "output_type": "stream",
     "text": [
      "Epoch 58: 7305/12000 60.875\n"
     ]
    },
    {
     "name": "stderr",
     "output_type": "stream",
     "text": [
      "100%|██████████| 12000/12000 [00:04<00:00, 2479.60it/s]\n"
     ]
    },
    {
     "name": "stdout",
     "output_type": "stream",
     "text": [
      "Epoch 59: 7293/12000 60.775\n"
     ]
    },
    {
     "name": "stderr",
     "output_type": "stream",
     "text": [
      "100%|██████████| 12000/12000 [00:04<00:00, 2503.94it/s]\n"
     ]
    },
    {
     "name": "stdout",
     "output_type": "stream",
     "text": [
      "Epoch 60: 7304/12000 60.86666666666667\n"
     ]
    },
    {
     "name": "stderr",
     "output_type": "stream",
     "text": [
      "100%|██████████| 12000/12000 [00:04<00:00, 2454.02it/s]\n"
     ]
    },
    {
     "name": "stdout",
     "output_type": "stream",
     "text": [
      "Epoch 61: 7366/12000 61.38333333333333\n"
     ]
    },
    {
     "name": "stderr",
     "output_type": "stream",
     "text": [
      "100%|██████████| 12000/12000 [00:04<00:00, 2533.05it/s]\n"
     ]
    },
    {
     "name": "stdout",
     "output_type": "stream",
     "text": [
      "Epoch 62: 7400/12000 61.66666666666667\n"
     ]
    },
    {
     "name": "stderr",
     "output_type": "stream",
     "text": [
      "100%|██████████| 12000/12000 [00:04<00:00, 2501.11it/s]\n"
     ]
    },
    {
     "name": "stdout",
     "output_type": "stream",
     "text": [
      "Epoch 63: 7370/12000 61.416666666666664\n"
     ]
    },
    {
     "name": "stderr",
     "output_type": "stream",
     "text": [
      "100%|██████████| 12000/12000 [00:04<00:00, 2583.06it/s]\n"
     ]
    },
    {
     "name": "stdout",
     "output_type": "stream",
     "text": [
      "Epoch 64: 7414/12000 61.78333333333333\n"
     ]
    },
    {
     "name": "stderr",
     "output_type": "stream",
     "text": [
      "100%|██████████| 12000/12000 [00:04<00:00, 2570.11it/s]\n"
     ]
    },
    {
     "name": "stdout",
     "output_type": "stream",
     "text": [
      "Epoch 65: 7413/12000 61.775000000000006\n"
     ]
    },
    {
     "name": "stderr",
     "output_type": "stream",
     "text": [
      "100%|██████████| 12000/12000 [00:04<00:00, 2598.48it/s]\n"
     ]
    },
    {
     "name": "stdout",
     "output_type": "stream",
     "text": [
      "Epoch 66: 7413/12000 61.775000000000006\n"
     ]
    },
    {
     "name": "stderr",
     "output_type": "stream",
     "text": [
      "100%|██████████| 12000/12000 [00:04<00:00, 2454.98it/s]\n"
     ]
    },
    {
     "name": "stdout",
     "output_type": "stream",
     "text": [
      "Epoch 67: 7331/12000 61.09166666666667\n"
     ]
    },
    {
     "name": "stderr",
     "output_type": "stream",
     "text": [
      "100%|██████████| 12000/12000 [00:04<00:00, 2576.42it/s]\n"
     ]
    },
    {
     "name": "stdout",
     "output_type": "stream",
     "text": [
      "Epoch 68: 7410/12000 61.75000000000001\n"
     ]
    },
    {
     "name": "stderr",
     "output_type": "stream",
     "text": [
      "100%|██████████| 12000/12000 [00:04<00:00, 2639.11it/s]\n"
     ]
    },
    {
     "name": "stdout",
     "output_type": "stream",
     "text": [
      "Epoch 69: 7387/12000 61.55833333333334\n"
     ]
    },
    {
     "name": "stderr",
     "output_type": "stream",
     "text": [
      "100%|██████████| 12000/12000 [00:04<00:00, 2636.18it/s]\n"
     ]
    },
    {
     "name": "stdout",
     "output_type": "stream",
     "text": [
      "Epoch 70: 7424/12000 61.86666666666667\n"
     ]
    },
    {
     "name": "stderr",
     "output_type": "stream",
     "text": [
      "100%|██████████| 12000/12000 [00:04<00:00, 2589.68it/s]\n"
     ]
    },
    {
     "name": "stdout",
     "output_type": "stream",
     "text": [
      "Epoch 71: 7486/12000 62.38333333333333\n"
     ]
    },
    {
     "name": "stderr",
     "output_type": "stream",
     "text": [
      "100%|██████████| 12000/12000 [00:04<00:00, 2590.78it/s]\n"
     ]
    },
    {
     "name": "stdout",
     "output_type": "stream",
     "text": [
      "Epoch 72: 7340/12000 61.16666666666667\n"
     ]
    },
    {
     "name": "stderr",
     "output_type": "stream",
     "text": [
      "100%|██████████| 12000/12000 [00:05<00:00, 2374.66it/s]\n"
     ]
    },
    {
     "name": "stdout",
     "output_type": "stream",
     "text": [
      "Epoch 73: 7488/12000 62.4\n"
     ]
    },
    {
     "name": "stderr",
     "output_type": "stream",
     "text": [
      "100%|██████████| 12000/12000 [00:04<00:00, 2526.85it/s]\n"
     ]
    },
    {
     "name": "stdout",
     "output_type": "stream",
     "text": [
      "Epoch 74: 7448/12000 62.06666666666667\n"
     ]
    },
    {
     "name": "stderr",
     "output_type": "stream",
     "text": [
      "100%|██████████| 12000/12000 [00:04<00:00, 2583.23it/s]\n"
     ]
    },
    {
     "name": "stdout",
     "output_type": "stream",
     "text": [
      "Epoch 75: 7347/12000 61.224999999999994\n"
     ]
    },
    {
     "name": "stderr",
     "output_type": "stream",
     "text": [
      "100%|██████████| 12000/12000 [00:04<00:00, 2403.44it/s]\n"
     ]
    },
    {
     "name": "stdout",
     "output_type": "stream",
     "text": [
      "Epoch 76: 7453/12000 62.108333333333334\n"
     ]
    },
    {
     "name": "stderr",
     "output_type": "stream",
     "text": [
      "100%|██████████| 12000/12000 [00:05<00:00, 2211.95it/s]\n"
     ]
    },
    {
     "name": "stdout",
     "output_type": "stream",
     "text": [
      "Epoch 77: 7498/12000 62.483333333333334\n"
     ]
    },
    {
     "name": "stderr",
     "output_type": "stream",
     "text": [
      "100%|██████████| 12000/12000 [00:04<00:00, 2520.19it/s]\n"
     ]
    },
    {
     "name": "stdout",
     "output_type": "stream",
     "text": [
      "Epoch 78: 7447/12000 62.05833333333334\n"
     ]
    },
    {
     "name": "stderr",
     "output_type": "stream",
     "text": [
      "100%|██████████| 12000/12000 [00:05<00:00, 2330.92it/s]\n"
     ]
    },
    {
     "name": "stdout",
     "output_type": "stream",
     "text": [
      "Epoch 79: 7415/12000 61.791666666666664\n"
     ]
    },
    {
     "name": "stderr",
     "output_type": "stream",
     "text": [
      "100%|██████████| 12000/12000 [00:04<00:00, 2582.52it/s]\n"
     ]
    },
    {
     "name": "stdout",
     "output_type": "stream",
     "text": [
      "Epoch 80: 7437/12000 61.975\n"
     ]
    },
    {
     "name": "stderr",
     "output_type": "stream",
     "text": [
      "100%|██████████| 12000/12000 [00:04<00:00, 2531.24it/s]\n"
     ]
    },
    {
     "name": "stdout",
     "output_type": "stream",
     "text": [
      "Epoch 81: 7398/12000 61.650000000000006\n"
     ]
    },
    {
     "name": "stderr",
     "output_type": "stream",
     "text": [
      "100%|██████████| 12000/12000 [00:04<00:00, 2599.38it/s]\n"
     ]
    },
    {
     "name": "stdout",
     "output_type": "stream",
     "text": [
      "Epoch 82: 7477/12000 62.30833333333333\n"
     ]
    },
    {
     "name": "stderr",
     "output_type": "stream",
     "text": [
      "100%|██████████| 12000/12000 [00:04<00:00, 2578.84it/s]\n"
     ]
    },
    {
     "name": "stdout",
     "output_type": "stream",
     "text": [
      "Epoch 83: 7465/12000 62.20833333333333\n"
     ]
    },
    {
     "name": "stderr",
     "output_type": "stream",
     "text": [
      "100%|██████████| 12000/12000 [00:04<00:00, 2593.38it/s]\n"
     ]
    },
    {
     "name": "stdout",
     "output_type": "stream",
     "text": [
      "Epoch 84: 7494/12000 62.45\n"
     ]
    },
    {
     "name": "stderr",
     "output_type": "stream",
     "text": [
      "100%|██████████| 12000/12000 [00:04<00:00, 2582.46it/s]\n"
     ]
    },
    {
     "name": "stdout",
     "output_type": "stream",
     "text": [
      "Epoch 85: 7458/12000 62.150000000000006\n"
     ]
    },
    {
     "name": "stderr",
     "output_type": "stream",
     "text": [
      "100%|██████████| 12000/12000 [00:04<00:00, 2589.60it/s]\n"
     ]
    },
    {
     "name": "stdout",
     "output_type": "stream",
     "text": [
      "Epoch 86: 7503/12000 62.525\n"
     ]
    },
    {
     "name": "stderr",
     "output_type": "stream",
     "text": [
      "100%|██████████| 12000/12000 [00:04<00:00, 2595.23it/s]\n"
     ]
    },
    {
     "name": "stdout",
     "output_type": "stream",
     "text": [
      "Epoch 87: 7461/12000 62.175000000000004\n"
     ]
    },
    {
     "name": "stderr",
     "output_type": "stream",
     "text": [
      "100%|██████████| 12000/12000 [00:04<00:00, 2518.99it/s]\n"
     ]
    },
    {
     "name": "stdout",
     "output_type": "stream",
     "text": [
      "Epoch 88: 7553/12000 62.94166666666666\n"
     ]
    },
    {
     "name": "stderr",
     "output_type": "stream",
     "text": [
      "100%|██████████| 12000/12000 [00:04<00:00, 2487.59it/s]\n"
     ]
    },
    {
     "name": "stdout",
     "output_type": "stream",
     "text": [
      "Epoch 89: 7535/12000 62.79166666666667\n"
     ]
    },
    {
     "name": "stderr",
     "output_type": "stream",
     "text": [
      "100%|██████████| 12000/12000 [00:04<00:00, 2479.93it/s]\n"
     ]
    },
    {
     "name": "stdout",
     "output_type": "stream",
     "text": [
      "Epoch 90: 7489/12000 62.40833333333333\n"
     ]
    },
    {
     "name": "stderr",
     "output_type": "stream",
     "text": [
      "100%|██████████| 12000/12000 [00:04<00:00, 2560.09it/s]\n"
     ]
    },
    {
     "name": "stdout",
     "output_type": "stream",
     "text": [
      "Epoch 91: 7416/12000 61.8\n"
     ]
    },
    {
     "name": "stderr",
     "output_type": "stream",
     "text": [
      "100%|██████████| 12000/12000 [00:04<00:00, 2453.77it/s]\n"
     ]
    },
    {
     "name": "stdout",
     "output_type": "stream",
     "text": [
      "Epoch 92: 7425/12000 61.875\n"
     ]
    },
    {
     "name": "stderr",
     "output_type": "stream",
     "text": [
      "100%|██████████| 12000/12000 [00:04<00:00, 2506.67it/s]\n"
     ]
    },
    {
     "name": "stdout",
     "output_type": "stream",
     "text": [
      "Epoch 93: 7464/12000 62.2\n"
     ]
    },
    {
     "name": "stderr",
     "output_type": "stream",
     "text": [
      "100%|██████████| 12000/12000 [00:05<00:00, 2224.20it/s]\n"
     ]
    },
    {
     "name": "stdout",
     "output_type": "stream",
     "text": [
      "Epoch 94: 7476/12000 62.3\n"
     ]
    },
    {
     "name": "stderr",
     "output_type": "stream",
     "text": [
      "100%|██████████| 12000/12000 [00:04<00:00, 2499.95it/s]\n"
     ]
    },
    {
     "name": "stdout",
     "output_type": "stream",
     "text": [
      "Epoch 95: 7569/12000 63.075\n"
     ]
    },
    {
     "name": "stderr",
     "output_type": "stream",
     "text": [
      "100%|██████████| 12000/12000 [00:04<00:00, 2615.85it/s]\n"
     ]
    },
    {
     "name": "stdout",
     "output_type": "stream",
     "text": [
      "Epoch 96: 7503/12000 62.525\n"
     ]
    },
    {
     "name": "stderr",
     "output_type": "stream",
     "text": [
      "100%|██████████| 12000/12000 [00:04<00:00, 2619.20it/s]\n"
     ]
    },
    {
     "name": "stdout",
     "output_type": "stream",
     "text": [
      "Epoch 97: 7576/12000 63.13333333333333\n"
     ]
    },
    {
     "name": "stderr",
     "output_type": "stream",
     "text": [
      "100%|██████████| 12000/12000 [00:05<00:00, 2291.81it/s]\n"
     ]
    },
    {
     "name": "stdout",
     "output_type": "stream",
     "text": [
      "Epoch 98: 7597/12000 63.30833333333333\n"
     ]
    },
    {
     "name": "stderr",
     "output_type": "stream",
     "text": [
      "100%|██████████| 12000/12000 [00:05<00:00, 2344.01it/s]"
     ]
    },
    {
     "name": "stdout",
     "output_type": "stream",
     "text": [
      "Epoch 99: 7545/12000 62.875\n"
     ]
    },
    {
     "name": "stderr",
     "output_type": "stream",
     "text": [
      "\n"
     ]
    }
   ],
   "source": [
    "# calculations with matrices\n",
    "np.random.seed(0)\n",
    "weights = np.random.randn(num_class, input_dim)/10000\n",
    "biases = np.random.randn(num_class, 1)/10000\n",
    "\n",
    "epochs = 100\n",
    "total = 12000\n",
    "for e in range(epochs): # how many times to get batch \n",
    "    correct = 0\n",
    "    losses = []\n",
    "    indices = np.arange(image_array.shape[1])\n",
    "    np.random.shuffle(indices)\n",
    "    for f in tqdm(range(len(image_array.T))): # (1, 1024)\n",
    "        new_weights = np.array(weights)\n",
    "        new_biases = np.array(biases)\n",
    "        \n",
    "        idx = indices[f:f+1] \n",
    "        batch_array = image_array[:, idx] # (1024, 1)\n",
    "        labels_batch = labels_array[:, idx] # (26, 1)\n",
    "        z = []\n",
    "        for i in range(len(weights)): # (1, 1024) len(weights) = 26\n",
    "            z.append(neuron_formula(batch_array, weights[i], biases[i]))  # (1, 1024) * (1024, 1) + (1,1)  = (1, 1)\n",
    "        z = np.array(z) # (26, 1)\n",
    "        \n",
    "        predictions = softmax(z) # (26, 1)\n",
    "\n",
    "        for i in range(len(predictions)):\n",
    "            loss_function_w = np.dot((predictions[i] - labels_batch[i]), batch_array.T) # (1, 1) * (1, 1024) = (26, 1024)\n",
    "            loss_function_b =  predictions[i] - labels_batch[i]\n",
    "            new_weights[i], new_biases[i] = use_gradient_descent(learning_rate, loss_function_w, loss_function_b, weights[i], biases[i])\n",
    "\n",
    "        prediction_array = np.array(predictions).T # (1, 26)\n",
    "        likely = prediction_array.argmax(axis=1)\n",
    "        actual = labels_batch.T.argmax(axis=1)\n",
    "        for p in range(len(likely)):\n",
    "            if actual[p] == likely[p]:\n",
    "                correct += 1\n",
    "\n",
    "        weights = new_weights\n",
    "        biases = new_biases\n",
    "        \n",
    "        \n",
    "    print(f'Epoch {e}: {correct}/{total}', correct/total*100)\n",
    "    "
   ]
  },
  {
   "cell_type": "code",
   "execution_count": 17,
   "metadata": {},
   "outputs": [
    {
     "name": "stdout",
     "output_type": "stream",
     "text": [
      "[[ 0.066072  0.065935  0.065993 ...  0.065965  0.065854  0.065786]\n",
      " [ 0.010675  0.010424  0.010399 ...  0.010514  0.010456  0.010631]\n",
      " [-0.120211 -0.119968 -0.120227 ... -0.120163 -0.120135 -0.120016]\n",
      " ...\n",
      " [ 0.013748  0.013542  0.013614 ...  0.0137    0.013653  0.013584]\n",
      " [ 0.011585  0.011696  0.011701 ...  0.011561  0.0117    0.011618]\n",
      " [ 0.055956  0.055602  0.055827 ...  0.055786  0.055741  0.055858]]\n",
      "[[ 0.06583 ]\n",
      " [ 0.010605]\n",
      " [-0.120067]\n",
      " [ 0.043574]\n",
      " [-0.01307 ]\n",
      " [ 0.062427]\n",
      " [ 0.092561]\n",
      " [ 0.026956]\n",
      " [-0.110074]\n",
      " [-0.119089]\n",
      " [ 0.094743]\n",
      " [-0.192069]\n",
      " [ 0.11161 ]\n",
      " [-0.046187]\n",
      " [ 0.003464]\n",
      " [ 0.029108]\n",
      " [ 0.079837]\n",
      " [-0.154961]\n",
      " [-0.003318]\n",
      " [ 0.054931]\n",
      " [-0.032368]\n",
      " [-0.071146]\n",
      " [ 0.105618]\n",
      " [ 0.013624]\n",
      " [ 0.011708]\n",
      " [ 0.055843]]\n"
     ]
    }
   ],
   "source": [
    "# new weights and biases after training\n",
    "print(weights)\n",
    "print(biases)"
   ]
  },
  {
   "cell_type": "code",
   "execution_count": 18,
   "metadata": {},
   "outputs": [
    {
     "name": "stdout",
     "output_type": "stream",
     "text": [
      "[[0]\n",
      " [0]\n",
      " [0]\n",
      " [0]\n",
      " [0]\n",
      " [0]\n",
      " [0]\n",
      " [0]\n",
      " [0]\n",
      " [0]\n",
      " [0]\n",
      " [0]\n",
      " [0]\n",
      " [0]\n",
      " [0]\n",
      " [0]\n",
      " [0]\n",
      " [0]\n",
      " [0]\n",
      " [0]\n",
      " [0]\n",
      " [0]\n",
      " [0]\n",
      " [1]\n",
      " [0]\n",
      " [0]]\n"
     ]
    },
    {
     "data": {
      "image/png": "[encoded data removed]",
      "text/plain": [
       "<Figure size 100x100 with 2 Axes>"
      ]
     },
     "metadata": {},
     "output_type": "display_data"
    },
    {
     "name": "stdout",
     "output_type": "stream",
     "text": [
      "[[0.00182 ]\n",
      " [0.000035]\n",
      " [0.      ]\n",
      " [0.000001]\n",
      " [0.000003]\n",
      " [0.      ]\n",
      " [0.000425]\n",
      " [0.000004]\n",
      " [0.      ]\n",
      " [0.      ]\n",
      " [0.000856]\n",
      " [0.      ]\n",
      " [0.      ]\n",
      " [0.000003]\n",
      " [0.      ]\n",
      " [0.      ]\n",
      " [0.024188]\n",
      " [0.      ]\n",
      " [0.      ]\n",
      " [0.000115]\n",
      " [0.000001]\n",
      " [0.000001]\n",
      " [0.000028]\n",
      " [0.904009]\n",
      " [0.06851 ]\n",
      " [0.      ]]\n",
      "0.1009165059691063\n"
     ]
    }
   ],
   "source": [
    "test_image = compress_image(open_image('./78/hsf_4/hsf_4_00062.png'), image_size)\n",
    "\n",
    "test_image = test_image.reshape(image_size * image_size, 1)\n",
    "test_image = np.array(test_image)\n",
    "\n",
    "test_label_array = [0 for _ in range(len(folders))]\n",
    "test_label_array[23] = 1\n",
    "test_label_array = np.array(test_label_array).reshape(num_class, 1)\n",
    "print(test_label_array)\n",
    "\n",
    "reshaped = test_image.reshape(image_size, image_size)\n",
    "\n",
    "plt.figure(figsize = (1,1))\n",
    "plt.imshow(reshaped)\n",
    "plt.colorbar()\n",
    "plt.show()\n",
    "\n",
    "prediction = predict(test_image, weights, biases)\n",
    "print(prediction) # new prediction\n",
    "print(get_loss(test_label_array, prediction)) # new loss"
   ]
  },
  {
   "cell_type": "code",
   "execution_count": 19,
   "metadata": {},
   "outputs": [
    {
     "data": {
      "image/png": "[encoded data removed]",
      "text/plain": [
       "<Figure size 100x100 with 2 Axes>"
      ]
     },
     "metadata": {},
     "output_type": "display_data"
    },
    {
     "data": {
      "image/png": "[encoded data removed]",
      "text/plain": [
       "<Figure size 100x100 with 2 Axes>"
      ]
     },
     "metadata": {},
     "output_type": "display_data"
    },
    {
     "data": {
      "image/png": "[encoded data removed]",
      "text/plain": [
       "<Figure size 100x100 with 2 Axes>"
      ]
     },
     "metadata": {},
     "output_type": "display_data"
    },
    {
     "data": {
      "image/png": "[encoded data removed]",
      "text/plain": [
       "<Figure size 100x100 with 2 Axes>"
      ]
     },
     "metadata": {},
     "output_type": "display_data"
    },
    {
     "data": {
      "image/png": "[encoded data removed]",
      "text/plain": [
       "<Figure size 100x100 with 2 Axes>"
      ]
     },
     "metadata": {},
     "output_type": "display_data"
    },
    {
     "data": {
      "image/png": "[encoded data removed]",
      "text/plain": [
       "<Figure size 100x100 with 2 Axes>"
      ]
     },
     "metadata": {},
     "output_type": "display_data"
    },
    {
     "data": {
      "image/png": "[encoded data removed]",
      "text/plain": [
       "<Figure size 100x100 with 2 Axes>"
      ]
     },
     "metadata": {},
     "output_type": "display_data"
    },
    {
     "data": {
      "image/png": "[encoded data removed]",
      "text/plain": [
       "<Figure size 100x100 with 2 Axes>"
      ]
     },
     "metadata": {},
     "output_type": "display_data"
    },
    {
     "data": {
      "image/png": "[encoded data removed]",
      "text/plain": [
       "<Figure size 100x100 with 2 Axes>"
      ]
     },
     "metadata": {},
     "output_type": "display_data"
    },
    {
     "data": {
      "image/png": "[encoded data removed]",
      "text/plain": [
       "<Figure size 100x100 with 2 Axes>"
      ]
     },
     "metadata": {},
     "output_type": "display_data"
    },
    {
     "data": {
      "image/png": "[encoded data removed]",
      "text/plain": [
       "<Figure size 100x100 with 2 Axes>"
      ]
     },
     "metadata": {},
     "output_type": "display_data"
    },
    {
     "data": {
      "image/png": "[encoded data removed]",
      "text/plain": [
       "<Figure size 100x100 with 2 Axes>"
      ]
     },
     "metadata": {},
     "output_type": "display_data"
    },
    {
     "data": {
      "image/png": "[encoded data removed]",
      "text/plain": [
       "<Figure size 100x100 with 2 Axes>"
      ]
     },
     "metadata": {},
     "output_type": "display_data"
    },
    {
     "data": {
      "image/png": "[encoded data removed]",
      "text/plain": [
       "<Figure size 100x100 with 2 Axes>"
      ]
     },
     "metadata": {},
     "output_type": "display_data"
    },
    {
     "data": {
      "image/png": "[encoded data removed]",
      "text/plain": [
       "<Figure size 100x100 with 2 Axes>"
      ]
     },
     "metadata": {},
     "output_type": "display_data"
    },
    {
     "data": {
      "image/png": "[encoded data removed]",
      "text/plain": [
       "<Figure size 100x100 with 2 Axes>"
      ]
     },
     "metadata": {},
     "output_type": "display_data"
    },
    {
     "data": {
      "image/png": "[encoded data removed]",
      "text/plain": [
       "<Figure size 100x100 with 2 Axes>"
      ]
     },
     "metadata": {},
     "output_type": "display_data"
    },
    {
     "data": {
      "image/png": "[encoded data removed]",
      "text/plain": [
       "<Figure size 100x100 with 2 Axes>"
      ]
     },
     "metadata": {},
     "output_type": "display_data"
    },
    {
     "data": {
      "image/png": "[encoded data removed]",
      "text/plain": [
       "<Figure size 100x100 with 2 Axes>"
      ]
     },
     "metadata": {},
     "output_type": "display_data"
    },
    {
     "data": {
      "image/png": "[encoded data removed]",
      "text/plain": [
       "<Figure size 100x100 with 2 Axes>"
      ]
     },
     "metadata": {},
     "output_type": "display_data"
    },
    {
     "data": {
      "image/png": "[encoded data removed]",
      "text/plain": [
       "<Figure size 100x100 with 2 Axes>"
      ]
     },
     "metadata": {},
     "output_type": "display_data"
    },
    {
     "data": {
      "image/png": "[encoded data removed]",
      "text/plain": [
       "<Figure size 100x100 with 2 Axes>"
      ]
     },
     "metadata": {},
     "output_type": "display_data"
    },
    {
     "data": {
      "image/png": "[encoded data removed]",
      "text/plain": [
       "<Figure size 100x100 with 2 Axes>"
      ]
     },
     "metadata": {},
     "output_type": "display_data"
    },
    {
     "data": {
      "image/png": "[encoded data removed]",
      "text/plain": [
       "<Figure size 100x100 with 2 Axes>"
      ]
     },
     "metadata": {},
     "output_type": "display_data"
    },
    {
     "data": {
      "image/png": "[encoded data removed]",
      "text/plain": [
       "<Figure size 100x100 with 2 Axes>"
      ]
     },
     "metadata": {},
     "output_type": "display_data"
    },
    {
     "data": {
      "image/png": "[encoded data removed]",
      "text/plain": [
       "<Figure size 100x100 with 2 Axes>"
      ]
     },
     "metadata": {},
     "output_type": "display_data"
    }
   ],
   "source": [
    "# show weight visualisation for new weights\n",
    "w = weights.reshape(num_class, image_size, image_size)\n",
    "b = biases.reshape(num_class, 1)\n",
    "os.makedirs(\"vis\", exist_ok=True)\n",
    "for i in range(26):\n",
    "    plt.figure(figsize = (1,1))\n",
    "    plt.imshow(w[i])\n",
    "    plt.colorbar()\n",
    "    plt.show()\n",
    "    plt.imsave(f'vis/{i}.png', w[i])"
   ]
  }
 ],
 "metadata": {
  "kernelspec": {
   "display_name": "mathia",
   "language": "python",
   "name": "python3"
  },
  "language_info": {
   "codemirror_mode": {
    "name": "ipython",
    "version": 3
   },
   "file_extension": ".py",
   "mimetype": "text/x-python",
   "name": "python",
   "nbconvert_exporter": "python",
   "pygments_lexer": "ipython3",
   "version": "3.10.13"
  }
 },
 "nbformat": 4,
 "nbformat_minor": 2
}
